{
 "cells": [
  {
   "cell_type": "code",
   "execution_count": 1,
   "id": "141e51b8",
   "metadata": {
    "execution": {
     "iopub.execute_input": "2024-09-09T14:38:01.083994Z",
     "iopub.status.busy": "2024-09-09T14:38:01.083795Z",
     "iopub.status.idle": "2024-09-09T14:38:01.113355Z",
     "shell.execute_reply": "2024-09-09T14:38:01.112867Z",
     "shell.execute_reply.started": "2024-09-09T14:38:01.083977Z"
    },
    "tags": []
   },
   "outputs": [],
   "source": [
    "from knowrob import *\n",
    "import json"
   ]
  },
  {
   "cell_type": "code",
   "execution_count": 2,
   "id": "a57633d8",
   "metadata": {
    "execution": {
     "iopub.execute_input": "2024-09-09T14:38:03.039431Z",
     "iopub.status.busy": "2024-09-09T14:38:03.039005Z",
     "iopub.status.idle": "2024-09-09T14:38:03.042324Z",
     "shell.execute_reply": "2024-09-09T14:38:03.041947Z",
     "shell.execute_reply.started": "2024-09-09T14:38:03.039415Z"
    },
    "tags": []
   },
   "outputs": [
    {
     "name": "stdout",
     "output_type": "stream",
     "text": [
      "[14:38:03.040] [info] [KnowRob] static initialization done.\n"
     ]
    }
   ],
   "source": [
    "InitKnowRob()"
   ]
  },
  {
   "cell_type": "code",
   "execution_count": 5,
   "id": "a4916ff0",
   "metadata": {
    "execution": {
     "iopub.execute_input": "2024-09-09T14:38:40.674121Z",
     "iopub.status.busy": "2024-09-09T14:38:40.673909Z",
     "iopub.status.idle": "2024-09-09T14:38:40.677937Z",
     "shell.execute_reply": "2024-09-09T14:38:40.677407Z",
     "shell.execute_reply.started": "2024-09-09T14:38:40.674104Z"
    },
    "tags": []
   },
   "outputs": [],
   "source": [
    "setting_dict = {\n",
    "  \"logging\": {\n",
    "    \"console-sink\": { \"level\": \"debug\" },\n",
    "    \"file-sink\": { \"level\": \"debug\" }\n",
    "  },\n",
    "\"data-backends\": [\n",
    "\t\t{\n",
    "\t\t\t\"type\": \"Redland\",\n",
    "\t\t\t\"name\": \"storage\"\n",
    "\t\t\t# \"host\": \"localhost\",\n",
    "\t\t\t# \"port\": 27017,\n",
    "\t\t\t# \"db\": \"test\",\n",
    "\t\t\t# \"read-only\": False\n",
    "\t\t}\n",
    "],\n",
    "  \"reasoner\": [\n",
    "    {\n",
    "      \"type\": \"GiskardReasoner\",\n",
    "      \"name\": \"GiskardReasoner\",\n",
    "      \"module\": \"./giskard_reasoner.py\",\n",
    "      \"data-backend\": \"storage\"\n",
    "    }\n",
    "  ]\n",
    "}\n"
   ]
  },
  {
   "cell_type": "code",
   "execution_count": 6,
   "id": "6bc0fd03",
   "metadata": {
    "execution": {
     "iopub.execute_input": "2024-09-09T14:38:43.697826Z",
     "iopub.status.busy": "2024-09-09T14:38:43.697607Z",
     "iopub.status.idle": "2024-09-09T14:38:45.122015Z",
     "shell.execute_reply": "2024-09-09T14:38:45.121544Z",
     "shell.execute_reply.started": "2024-09-09T14:38:43.697810Z"
    },
    "tags": []
   },
   "outputs": [
    {
     "name": "stdout",
     "output_type": "stream",
     "text": [
      "[14:38:43.698] [info] Using backend `storage` with type `Redland`.\n",
      "[14:38:43.699] [info] [redland] using storage of type \"memory\" with name \"knowrob\" and options \"contexts='yes'\".\n",
      "[14:38:43.699] [info] Using queryable backend with id 'storage'.\n",
      "[14:38:43.699] [info] Loading ontology at '/home/jovyan/workspace/ros/src/knowrob/owl/rdf-schema.xml' with version \"Mon Sep  9 12:47:19 2024\" and origin \"rdf-schema\".\n",
      "[14:38:43.699] [info] Loading ontology at '/home/jovyan/workspace/ros/src/knowrob/owl/owl.rdf' with version \"Mon Sep  9 12:47:19 2024\" and origin \"owl\".\n",
      "[14:38:44.553] [info] Using reasoner `GiskardReasoner` with type `GiskardReasoner`.\n",
      "[14:38:45.116] [info] Using goal-driven reasoner with id 'GiskardReasoner'.\n"
     ]
    }
   ],
   "source": [
    "# Convert the dictionary to a JSON string\n",
    "json_str = json.dumps(setting_dict)\n",
    "# Initialize the KnowledgeBase with the PropertyTree\n",
    "kb = KnowledgeBase(json_str)"
   ]
  },
  {
   "cell_type": "code",
   "execution_count": 7,
   "id": "425e832a",
   "metadata": {
    "execution": {
     "iopub.execute_input": "2024-09-09T14:38:48.110525Z",
     "iopub.status.busy": "2024-09-09T14:38:48.110293Z",
     "iopub.status.idle": "2024-09-09T14:38:48.112938Z",
     "shell.execute_reply": "2024-09-09T14:38:48.112525Z",
     "shell.execute_reply.started": "2024-09-09T14:38:48.110509Z"
    },
    "tags": []
   },
   "outputs": [],
   "source": [
    "robot_part = \"l_gripper_tool_frame\"\n",
    "object_part = \"iai_fridge_door_handle\"\n",
    "reachability = \"'http://knowrob.org/kb/knowrob.owl#reachability'\""
   ]
  },
  {
   "cell_type": "code",
   "execution_count": 8,
   "id": "3d3eefa0",
   "metadata": {
    "execution": {
     "iopub.execute_input": "2024-09-09T14:38:50.087047Z",
     "iopub.status.busy": "2024-09-09T14:38:50.086861Z",
     "iopub.status.idle": "2024-09-09T14:38:57.079903Z",
     "shell.execute_reply": "2024-09-09T14:38:57.079298Z",
     "shell.execute_reply.started": "2024-09-09T14:38:50.087032Z"
    },
    "tags": []
   },
   "outputs": [
    {
     "name": "stdout",
     "output_type": "stream",
     "text": [
      "[INFO] [1725892730.088500]: Checking reachability\n",
      "[INFO] [1725892737.076184]: Projection successful.\n"
     ]
    }
   ],
   "source": [
    "query = QueryParser.parse(reachability+\"(\"+ object_part +\",\" + robot_part + \")\")\n",
    "\n",
    "resultStream = kb.submitQuery(query, QueryContext(QueryFlag.QUERY_FLAG_ALL_SOLUTIONS))\n",
    "resultQueue = resultStream.createQueue()\n",
    "# Get the result\n",
    "nextResult1 = resultQueue.pop_front()"
   ]
  },
  {
   "cell_type": "code",
   "execution_count": 9,
   "id": "ef5eb4da",
   "metadata": {
    "execution": {
     "iopub.execute_input": "2024-09-09T14:39:02.005823Z",
     "iopub.status.busy": "2024-09-09T14:39:02.005626Z",
     "iopub.status.idle": "2024-09-09T14:39:02.114615Z",
     "shell.execute_reply": "2024-09-09T14:39:02.114176Z",
     "shell.execute_reply.started": "2024-09-09T14:39:02.005808Z"
    },
    "tags": []
   },
   "outputs": [
    {
     "name": "stdout",
     "output_type": "stream",
     "text": [
      "True\n",
      "[14:39:02.106] [info] [KnowRob] shutdown complete.\n"
     ]
    }
   ],
   "source": [
    "if isinstance(nextResult1, AnswerYes):\n",
    "    print(\"True\")\n",
    "    \n",
    "ShutdownKnowRob()"
   ]
  }
 ],
 "metadata": {
  "kernelspec": {
   "display_name": "Python 3 (ipykernel)",
   "language": "python",
   "name": "python3"
  },
  "language_info": {
   "codemirror_mode": {
    "name": "ipython",
    "version": 3
   },
   "file_extension": ".py",
   "mimetype": "text/x-python",
   "name": "python",
   "nbconvert_exporter": "python",
   "pygments_lexer": "ipython3",
   "version": "3.10.6"
  }
 },
 "nbformat": 4,
 "nbformat_minor": 5
}
