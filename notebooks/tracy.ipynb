{
 "cells": [
  {
   "cell_type": "markdown",
   "id": "c7167a5a-8ecb-4e68-b5ab-48f4d8948680",
   "metadata": {
    "execution": {
     "iopub.execute_input": "2024-01-22T16:09:32.961531Z",
     "iopub.status.busy": "2024-01-22T16:09:32.961000Z",
     "iopub.status.idle": "2024-01-22T16:09:32.963371Z",
     "shell.execute_reply": "2024-01-22T16:09:32.962935Z",
     "shell.execute_reply.started": "2024-01-22T16:09:32.961514Z"
    }
   },
   "source": [
    "# Tracy Giskard Demo\n",
    "\n",
    "## 1. Launch Tracy simulation"
   ]
  },
  {
   "cell_type": "code",
   "execution_count": null,
   "id": "39ed7604-0b98-4128-9029-81181f4485d5",
   "metadata": {},
   "outputs": [],
   "source": [
    "import rospy\n",
    "from utils import open_desktop, run_command"
   ]
  },
  {
   "cell_type": "code",
   "execution_count": null,
   "id": "8b4e8451-fdf1-4e5e-8054-468001cdf899",
   "metadata": {},
   "outputs": [],
   "source": [
    "# Open a desktop GUI left sidecar\n",
    "# Note: if you see connection error, try running this code cell again\n",
    "open_desktop()"
   ]
  },
  {
   "cell_type": "code",
   "execution_count": null,
   "id": "138373b3-704e-46c0-b8de-a4ee1c633536",
   "metadata": {},
   "outputs": [],
   "source": [
    "# Run the roslaunch in a background process\n",
    "# Note: To see the logs, run this command in a terminal tab.\n",
    "run_command('roslaunch giskardpy giskardpy_tracy_standalone.launch')"
   ]
  },
  {
   "cell_type": "markdown",
   "id": "c62dcdbd-f356-4ae0-b91c-fb70322e21b7",
   "metadata": {},
   "source": [
    "## 2. Control the Tracy with the Giskard Python Interface"
   ]
  },
  {
   "cell_type": "code",
   "execution_count": null,
   "id": "54711d4f-e950-4e36-86c0-2e05b13daa5a",
   "metadata": {},
   "outputs": [],
   "source": [
    "# initialize a ros node and the python wrapper for giskard\n",
    "import rospy\n",
    "from pprint import pprint\n",
    "from giskardpy.python_interface import GiskardWrapper\n",
    "from geometry_msgs.msg import PoseStamped, Point, Quaternion, Vector3Stamped, PointStamped\n",
    "rospy.init_node('gk_python_demo')\n",
    "giskard_wrapper = GiskardWrapper()"
   ]
  },
  {
   "cell_type": "markdown",
   "id": "b8505a59-a976-4b0c-a94d-cd742f44a59b",
   "metadata": {},
   "source": [
    "### List Joints and links"
   ]
  },
  {
   "cell_type": "code",
   "execution_count": null,
   "id": "01514d5e-59e3-4b53-b278-3602b54ad0ae",
   "metadata": {
    "scrolled": true
   },
   "outputs": [],
   "source": [
    "# List all the controlled joints\n",
    "robot_joints = giskard_wrapper.get_controlled_joints(giskard_wrapper.get_group_names()[0])\n",
    "# List all the links\n",
    "robot_links = giskard_wrapper.get_group_info(giskard_wrapper.get_group_names()[0]).links\n",
    "\n",
    "print('Joints:')\n",
    "pprint(robot_joints)\n",
    "print('Links:')\n",
    "pprint(robot_links)"
   ]
  },
  {
   "cell_type": "markdown",
   "id": "7f64a798-7542-4c2e-bd03-014882c86621",
   "metadata": {},
   "source": [
    "### Define a default pose"
   ]
  },
  {
   "cell_type": "code",
   "execution_count": null,
   "id": "25e1a6ef-3313-4105-90c6-7d20b57fbebc",
   "metadata": {
    "scrolled": true
   },
   "outputs": [],
   "source": [
    "default_pose = {\n",
    "        'left_shoulder_pan_joint': 2.539670467376709,\n",
    "        'left_shoulder_lift_joint': -1.46823854119096,\n",
    "        'left_elbow_joint': 2.1197431723224085,\n",
    "        'left_wrist_1_joint': -1.4825000625899811,\n",
    "        'left_wrist_2_joint': 5.467689037322998,\n",
    "        'left_wrist_3_joint': -0.9808381239520472,\n",
    "        'right_shoulder_pan_joint': 3.7588136196136475,\n",
    "        'right_shoulder_lift_joint': -1.7489210567870082,\n",
    "        'right_elbow_joint': -2.054229259490967,\n",
    "        'right_wrist_1_joint': -1.6140786610045375,\n",
    "        'right_wrist_2_joint': 0.7295855283737183,\n",
    "        'right_wrist_3_joint': 3.944669485092163,\n",
    "    }\n",
    "# move to default pose\n",
    "def reset_to_default_pose():\n",
    "    giskard_wrapper.set_joint_goal(default_pose)\n",
    "    giskard_wrapper.plan_and_execute()\n",
    "\n",
    "reset_to_default_pose()"
   ]
  },
  {
   "cell_type": "markdown",
   "id": "086d0523-47ce-4575-bf94-c72bf99a7445",
   "metadata": {
    "execution": {
     "iopub.execute_input": "2024-06-12T10:02:31.179201Z",
     "iopub.status.busy": "2024-06-12T10:02:31.178573Z",
     "iopub.status.idle": "2024-06-12T10:02:31.747226Z",
     "shell.execute_reply": "2024-06-12T10:02:31.745905Z",
     "shell.execute_reply.started": "2024-06-12T10:02:31.179155Z"
    },
    "scrolled": true
   },
   "source": [
    "### Spawn and attach cylinders to the hands"
   ]
  },
  {
   "cell_type": "code",
   "execution_count": null,
   "id": "bb727b2f-3f56-4bad-b5cf-bf3da2a2128a",
   "metadata": {
    "scrolled": true
   },
   "outputs": [],
   "source": [
    "cylinder_name_r = 'C_r'\n",
    "cylinder_height = 0.121\n",
    "pose = PoseStamped()\n",
    "pose.header.frame_id = 'r_gripper_tool_frame'\n",
    "pose.pose.position.z = cylinder_height / 5\n",
    "pose.pose.orientation.w = 1\n",
    "giskard_wrapper.add_cylinder(name=cylinder_name_r,\n",
    "                         height=cylinder_height,\n",
    "                         radius=0.0225,\n",
    "                         pose=pose,\n",
    "                         parent_link='r_gripper_tool_frame')\n",
    "# dye it blue\n",
    "giskard_wrapper.dye_group(cylinder_name_r, (0.5, 1, 1, 1))\n",
    "\n",
    "cylinder_name_l = 'C_l'\n",
    "cylinder_height = 0.121\n",
    "pose = PoseStamped()\n",
    "pose.header.frame_id = 'l_gripper_tool_frame'\n",
    "pose.pose.position.z = cylinder_height / 5\n",
    "pose.pose.orientation.w = 1\n",
    "giskard_wrapper.add_cylinder(name=cylinder_name_l,\n",
    "                         height=cylinder_height,\n",
    "                         radius=0.0225,\n",
    "                         pose=pose,\n",
    "                         parent_link='l_gripper_tool_frame')\n",
    "# dye it yellow\n",
    "giskard_wrapper.dye_group(cylinder_name_l, (1, 1, 0, 1))"
   ]
  },
  {
   "cell_type": "markdown",
   "id": "ce90d67c-c5e3-4a3e-98e1-867be42dcf9f",
   "metadata": {},
   "source": [
    "### Call a goal to \"insert\" the cylinder at a point"
   ]
  },
  {
   "cell_type": "code",
   "execution_count": null,
   "id": "cf34fbc3-522b-4a09-8f25-fa5de2adc82c",
   "metadata": {
    "scrolled": true
   },
   "outputs": [],
   "source": [
    "def insert_cylider_to(x, y, cylinder_name):\n",
    "    hole_point = PointStamped()\n",
    "    hole_point.header.frame_id = 'table'\n",
    "    hole_point.point.x = x\n",
    "    hole_point.point.y = y\n",
    "    giskard_wrapper.set_json_goal('InsertCylinder',\n",
    "                              cylinder_name=cylinder_name,\n",
    "                              cylinder_height=cylinder_height,\n",
    "                              hole_point=hole_point)\n",
    "    giskard_wrapper.allow_all_collisions()\n",
    "    giskard_wrapper.plan_and_execute()"
   ]
  },
  {
   "cell_type": "markdown",
   "id": "36fbe490-0973-4651-bd60-c3fa9d72fa2e",
   "metadata": {},
   "source": [
    "### Insert cylinders to 10 random positions"
   ]
  },
  {
   "cell_type": "code",
   "execution_count": null,
   "id": "77ff1e8e-96f7-4d77-bc4e-7caabd9451f6",
   "metadata": {},
   "outputs": [],
   "source": [
    "import numpy as np\n",
    "\n",
    "num = 10  # Number of coordinate pairs to generate\n",
    "x_min, x_max = 0.5, 0.9  # Range for x coordinates\n",
    "y_min, y_max = 0.2, 0.7  # Range for y coordinates\n",
    "\n",
    "coordinates_l = np.column_stack((np.random.uniform(x_min, x_max, num), np.random.uniform(y_min, y_max, num)))\n",
    "coordinates_r = np.column_stack((np.random.uniform(x_min, x_max, num), np.random.uniform(y_min, y_max, num)))\n",
    "\n",
    "for i in range(num):  \n",
    "    insert_cylider_to(coordinates_r[i][0], -coordinates_r[i][1], cylinder_name_r)\n",
    "    insert_cylider_to(coordinates_l[i][0], coordinates_l[i][1], cylinder_name_l)\n",
    "    reset_to_default_pose()"
   ]
  },
  {
   "cell_type": "code",
   "execution_count": null,
   "id": "38ff0dff-39df-43fa-bbf5-29c8c09b4287",
   "metadata": {},
   "outputs": [],
   "source": []
  }
 ],
 "metadata": {
  "kernelspec": {
   "display_name": "Python 3 (ipykernel)",
   "language": "python",
   "name": "python3"
  },
  "language_info": {
   "codemirror_mode": {
    "name": "ipython",
    "version": 3
   },
   "file_extension": ".py",
   "mimetype": "text/x-python",
   "name": "python",
   "nbconvert_exporter": "python",
   "pygments_lexer": "ipython3",
   "version": "3.10.6"
  }
 },
 "nbformat": 4,
 "nbformat_minor": 5
}
